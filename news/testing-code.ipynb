{
 "cells": [
  {
   "cell_type": "code",
   "execution_count": 2,
   "metadata": {},
   "outputs": [],
   "source": [
    "category_names = ['National', 'Election 2022', 'World', 'Opinion', 'Community', 'Sport', 'Motoring', 'Business', 'Entertainment', 'Tech & Gaming']\n",
    "category_links =  ['https://timesofmalta.com/articles/listing/national', 'https://timesofmalta.com/articles/listing/election 2022', \n",
    "'https://timesofmalta.com/articles/listing/world', 'https://timesofmalta.com/articles/listing/opinion', 'https://timesofmalta.com/articles/listing/community',\n",
    "'https://timesofmalta.com/articles/listing/sport', 'https://timesofmalta.com/articles/listing/motoring', \n",
    "'https://timesofmalta.com/articles/listing/business', 'https://timesofmalta.com/articles/listing/entertainment',\n",
    " 'https://timesofmalta.com/articles/listing/tech & gaming']"
   ]
  },
  {
   "cell_type": "code",
   "execution_count": 3,
   "metadata": {},
   "outputs": [
    {
     "data": {
      "text/plain": [
       "{'National': ['https://timesofmalta.com/articles/listing/national'],\n",
       " 'Election 2022': ['https://timesofmalta.com/articles/listing/election 2022'],\n",
       " 'World': ['https://timesofmalta.com/articles/listing/world'],\n",
       " 'Opinion': ['https://timesofmalta.com/articles/listing/opinion'],\n",
       " 'Community': ['https://timesofmalta.com/articles/listing/community'],\n",
       " 'Sport': ['https://timesofmalta.com/articles/listing/sport'],\n",
       " 'Motoring': ['https://timesofmalta.com/articles/listing/motoring'],\n",
       " 'Business': ['https://timesofmalta.com/articles/listing/business'],\n",
       " 'Entertainment': ['https://timesofmalta.com/articles/listing/entertainment'],\n",
       " 'Tech & Gaming': ['https://timesofmalta.com/articles/listing/tech & gaming']}"
      ]
     },
     "execution_count": 3,
     "metadata": {},
     "output_type": "execute_result"
    }
   ],
   "source": [
    "# two lists into dict with values in lists\n",
    "\n",
    "zipped = list(zip(category_names, [[link] for link in category_links]))\n",
    "to_dict = {k:v for (k, v) in zipped}\n",
    "to_dict"
   ]
  },
  {
   "cell_type": "code",
   "execution_count": 5,
   "metadata": {},
   "outputs": [],
   "source": [
    "# to append into lists found in dict's values\n",
    "test_value = 'https://timesofmalta.com/articles/listing/tech & gaming'\n",
    "to_dict['National'].append(test_value)"
   ]
  },
  {
   "cell_type": "code",
   "execution_count": 6,
   "metadata": {},
   "outputs": [
    {
     "data": {
      "text/plain": [
       "{'National': ['https://timesofmalta.com/articles/listing/national',\n",
       "  'https://timesofmalta.com/articles/listing/tech & gaming'],\n",
       " 'Election 2022': ['https://timesofmalta.com/articles/listing/election 2022'],\n",
       " 'World': ['https://timesofmalta.com/articles/listing/world'],\n",
       " 'Opinion': ['https://timesofmalta.com/articles/listing/opinion'],\n",
       " 'Community': ['https://timesofmalta.com/articles/listing/community'],\n",
       " 'Sport': ['https://timesofmalta.com/articles/listing/sport'],\n",
       " 'Motoring': ['https://timesofmalta.com/articles/listing/motoring'],\n",
       " 'Business': ['https://timesofmalta.com/articles/listing/business'],\n",
       " 'Entertainment': ['https://timesofmalta.com/articles/listing/entertainment'],\n",
       " 'Tech & Gaming': ['https://timesofmalta.com/articles/listing/tech & gaming']}"
      ]
     },
     "execution_count": 6,
     "metadata": {},
     "output_type": "execute_result"
    }
   ],
   "source": [
    "to_dict"
   ]
  },
  {
   "cell_type": "code",
   "execution_count": null,
   "metadata": {},
   "outputs": [],
   "source": []
  }
 ],
 "metadata": {
  "interpreter": {
   "hash": "aac35016361e923f91c1f0c329e14115d598fe1f77ceae694e440496d77be6d5"
  },
  "kernelspec": {
   "display_name": "Python 3.9.7 ('webs_projects')",
   "language": "python",
   "name": "python3"
  },
  "language_info": {
   "codemirror_mode": {
    "name": "ipython",
    "version": 3
   },
   "file_extension": ".py",
   "mimetype": "text/x-python",
   "name": "python",
   "nbconvert_exporter": "python",
   "pygments_lexer": "ipython3",
   "version": "3.9.7"
  },
  "orig_nbformat": 4
 },
 "nbformat": 4,
 "nbformat_minor": 2
}
